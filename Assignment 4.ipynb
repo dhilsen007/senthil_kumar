{
 "cells": [
  {
   "cell_type": "markdown",
   "metadata": {},
   "source": [
    "1.1 Write a Python Program(with class concepts) to find the area of the triangle using the below\n",
    "formula.\n",
    "area = (s*(s-a)*(s-b)*(s-c)) ** 0.5"
   ]
  },
  {
   "cell_type": "code",
   "execution_count": 19,
   "metadata": {
    "scrolled": false
   },
   "outputs": [
    {
     "name": "stdout",
     "output_type": "stream",
     "text": [
      "Please enter the length of A:\n",
      "2\n",
      "Please enter the length of B:\n",
      "2\n",
      "Please enter the length of C:\n",
      "2\n"
     ]
    },
    {
     "data": {
      "text/plain": [
       "1.7320508075688772"
      ]
     },
     "execution_count": 19,
     "metadata": {},
     "output_type": "execute_result"
    }
   ],
   "source": [
    "class Input:\n",
    "    def __init__(self):\n",
    "        print(\"Please enter the length of A:\")\n",
    "        self.a = int(input())\n",
    "        print(\"Please enter the length of B:\")\n",
    "        self.b = int(input())\n",
    "        print(\"Please enter the length of C:\")\n",
    "        self.c = int(input())\n",
    "    def area(self):\n",
    "        return self.a, self.b, self.c\n",
    "        \n",
    "class Area(Input):\n",
    "    def __init__(self):\n",
    "        super(Area,self).__init__()\n",
    "    def area(self):\n",
    "        a,b,c = super(Area,self).area()\n",
    "        s = (a+b+c)/2\n",
    "        return (s*(s-a)*(s-b)*(s-c)) ** 0.5\n",
    "\n",
    "triangle = Area()\n",
    "triangle.area()\n",
    "    "
   ]
  },
  {
   "cell_type": "code",
   "execution_count": null,
   "metadata": {},
   "outputs": [],
   "source": [
    "1.2 Write a function filter_long_words() that takes a list of words and an integer n and returns\n",
    "the list of words that are longer than n."
   ]
  },
  {
   "cell_type": "code",
   "execution_count": 23,
   "metadata": {},
   "outputs": [
    {
     "data": {
      "text/plain": [
       "['this', 'senthil']"
      ]
     },
     "execution_count": 23,
     "metadata": {},
     "output_type": "execute_result"
    }
   ],
   "source": [
    "class words:\n",
    "    def __init__(self,a,b):\n",
    "        self.a = a\n",
    "        self.b = b\n",
    "    def filter_long_words(self):\n",
    "        c = []\n",
    "        x = self.a\n",
    "        y = self.b\n",
    "        for i in x:\n",
    "            if len(i) > y:\n",
    "                c.append(i)\n",
    "        return c\n",
    "\n",
    "m = [\"hi\",\"this\",\"is\",\"senthil\"]\n",
    "n = 2\n",
    "longwords = words(m,n)\n",
    "longwords.filter_long_words()\n",
    "            \n",
    "        \n",
    "        "
   ]
  },
  {
   "cell_type": "code",
   "execution_count": 31,
   "metadata": {},
   "outputs": [
    {
     "data": {
      "text/plain": [
       "[4, 3, 2, 3]"
      ]
     },
     "execution_count": 31,
     "metadata": {},
     "output_type": "execute_result"
    }
   ],
   "source": [
    "class numwords:\n",
    "    def __init__(self,a):\n",
    "        self.a = a\n",
    "    def findlen(self):\n",
    "        return list(map(lambda x:len(x),self.a))\n",
    "a = [\"asdf\",\"lkj\",\"hi\",\"you\"]\n",
    "mywords = numwords(a)\n",
    "mywords.findlen()\n",
    "    \n",
    "\n",
    "    "
   ]
  },
  {
   "cell_type": "code",
   "execution_count": 37,
   "metadata": {},
   "outputs": [
    {
     "data": {
      "text/plain": [
       "True"
      ]
     },
     "execution_count": 37,
     "metadata": {},
     "output_type": "execute_result"
    }
   ],
   "source": [
    "class vow:\n",
    "    def __init__(self,a):\n",
    "        self.a = a\n",
    "    def findvow(self):\n",
    "        vowels = ['a','e','i','o','u']\n",
    "        if self.a in vowels:\n",
    "            return True\n",
    "        else:\n",
    "            return False\n",
    "vowobj = vow('a')\n",
    "vowobj.findvow()"
   ]
  },
  {
   "cell_type": "code",
   "execution_count": null,
   "metadata": {},
   "outputs": [],
   "source": []
  }
 ],
 "metadata": {
  "kernelspec": {
   "display_name": "Python 3",
   "language": "python",
   "name": "python3"
  },
  "language_info": {
   "codemirror_mode": {
    "name": "ipython",
    "version": 3
   },
   "file_extension": ".py",
   "mimetype": "text/x-python",
   "name": "python",
   "nbconvert_exporter": "python",
   "pygments_lexer": "ipython3",
   "version": "3.7.6"
  }
 },
 "nbformat": 4,
 "nbformat_minor": 4
}
